{
 "cells": [
  {
   "metadata": {},
   "cell_type": "markdown",
   "source": "# Embedding",
   "id": "365e3a8b17de64df"
  },
  {
   "cell_type": "code",
   "execution_count": null,
   "id": "initial_id",
   "metadata": {
    "collapsed": true
   },
   "outputs": [],
   "source": [
    ""
   ]
  },
  {
   "metadata": {},
   "cell_type": "code",
   "outputs": [],
   "execution_count": null,
   "source": "",
   "id": "ba91f31e4b7e8669"
  },
  {
   "metadata": {},
   "cell_type": "markdown",
   "source": [
    "# Feedforward Network\n",
    "### A general category of neural networks. It can have just a single layer and can have linear-only or mixed activations. It may include various training methods and border including unsupervised tasks."
   ],
   "id": "ab3713bb891aa493"
  },
  {
   "metadata": {},
   "cell_type": "code",
   "outputs": [],
   "execution_count": null,
   "source": [
    "# Import library\n",
    "import torch\n",
    "import torch.nn as nn\n",
    "import torch.nn.functional as F\n",
    "\n",
    "\n",
    "torch.set_printoptions(precision=5, sci_mode=False)\n",
    "\n",
    "class PositionwiseFeedForward(nn.Module):\n",
    "    def __init__(self, d_model: int, d_ffn: int, dropout: float=0.1):\n",
    "        \"\"\"\n",
    "        :param d_model:\n",
    "        :param d_ffn:\n",
    "        :param dropout:\n",
    "        \"\"\"\n",
    "        super(PositionwiseFeedForward, self).__init__()\n",
    "        self.w_1 = nn.Linear(d_model, d_ffn)\n",
    "        self.w_2 = nn.Linear(d_ffn, d_model)\n",
    "        self.dropout = nn.Dropout(dropout)\n",
    "\n",
    "    def forward(self, x):\n",
    "        \"\"\"\n",
    "        :param x: output from attention (batch_size, seq_len, d_model)\n",
    "        :return: expanded-and-contracted representation (batch_size, seq_len, d_model)\n",
    "        \"\"\"\n",
    "        return self.w_2(self.dropout(F.relu(self.w_1(x))))"
   ],
   "id": "f6c874ab45df04f3"
  },
  {
   "metadata": {},
   "cell_type": "markdown",
   "source": "",
   "id": "c922804507af0417"
  }
 ],
 "metadata": {
  "kernelspec": {
   "display_name": "Python 3",
   "language": "python",
   "name": "python3"
  },
  "language_info": {
   "codemirror_mode": {
    "name": "ipython",
    "version": 2
   },
   "file_extension": ".py",
   "mimetype": "text/x-python",
   "name": "python",
   "nbconvert_exporter": "python",
   "pygments_lexer": "ipython2",
   "version": "2.7.6"
  }
 },
 "nbformat": 4,
 "nbformat_minor": 5
}
